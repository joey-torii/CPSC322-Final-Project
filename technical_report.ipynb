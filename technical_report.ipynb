{
 "metadata": {
  "language_info": {
   "codemirror_mode": {
    "name": "ipython",
    "version": 3
   },
   "file_extension": ".py",
   "mimetype": "text/x-python",
   "name": "python",
   "nbconvert_exporter": "python",
   "pygments_lexer": "ipython3",
   "version": "3.8.5"
  },
  "orig_nbformat": 2,
  "kernelspec": {
   "name": "python385jvsc74a57bd098b0a9b7b4eaaa670588a142fd0a9b87eaafe866f1db4228be72b4211d12040f",
   "display_name": "Python 3.8.5 64-bit ('base': conda)"
  }
 },
 "nbformat": 4,
 "nbformat_minor": 2,
 "cells": [
  {
   "source": [
    "## Introduction:\n",
    "\n",
    "The dataset that we had used for the semester proejct is the Netflix TV Shows and Movies dataset.\n",
    "\n",
    "Classification task implemented:\n",
    "\n",
    "Findings:\n"
   ],
   "cell_type": "markdown",
   "metadata": {}
  },
  {
   "source": [
    "## Data Analysis:\n",
    "\n",
    "Information about the dataset itself, e.g., the attributes and attribute types, the number of instances, and the attribute being used as the label.\n",
    "\n",
    "Relevant summary statistics about the dataset.\n",
    "\n",
    "Data visualizations highlighting important/interesting aspects of your dataset. Visualizations may include frequency distributions, comparisons of attributes (scatterplot, multiple frequency diagrams), box and whisker plots, etc. The goal is not to include all possible diagrams, but instead to select and highlight diagrams that provide insight about the dataset itself.\n",
    "\n",
    "\n",
    "\n"
   ],
   "cell_type": "markdown",
   "metadata": {}
  },
  {
   "source": [
    "### Classification Results:\n",
    "\n",
    "\n"
   ],
   "cell_type": "markdown",
   "metadata": {}
  },
  {
   "source": [
    "### Conclusion:\n",
    "\n",
    "The dataset we used were the TV shows and movies that Netflix has to offer. Netflix has a variety of options so we thought it would be fun to crunch the numbers and see what we could learn about the possibilities. Going into the project, we believed that there were going to be a lot of areas of classification that could be done on the data. Although, when we started looking deeper into it, we realized there were less options than previously thought.\n",
    "\n",
    "### TODO: below\n",
    "the classification approach you developed, your classifiers performance, and any ideas you have on ways to improve its performance. \n",
    "\n",
    "\n"
   ],
   "cell_type": "markdown",
   "metadata": {}
  }
 ]
}