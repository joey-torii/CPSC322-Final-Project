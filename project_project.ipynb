{
 "metadata": {
  "language_info": {
   "codemirror_mode": {
    "name": "ipython",
    "version": 3
   },
   "file_extension": ".py",
   "mimetype": "text/x-python",
   "name": "python",
   "nbconvert_exporter": "python",
   "pygments_lexer": "ipython3",
   "version": "3.8.5"
  },
  "orig_nbformat": 2,
  "kernelspec": {
   "name": "python385jvsc74a57bd098b0a9b7b4eaaa670588a142fd0a9b87eaafe866f1db4228be72b4211d12040f",
   "display_name": "Python 3.8.5 64-bit ('base': conda)"
  }
 },
 "nbformat": 4,
 "nbformat_minor": 2,
 "cells": [
  {
   "source": [
    "## CPSC 322 Project Proposal\n",
    "\n",
    "Names: Joseph Torii and Alex Giaccobi\n",
    "\n",
    "Dataset Description: \n",
    "\n",
    "Implementation and Technical Merit:\n",
    "\n",
    "Potential Impact of the Result: "
   ],
   "cell_type": "markdown",
   "metadata": {}
  }
 ]
}