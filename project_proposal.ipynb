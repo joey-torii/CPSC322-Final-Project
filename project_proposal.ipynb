{
 "metadata": {
  "language_info": {
   "codemirror_mode": {
    "name": "ipython",
    "version": 3
   },
   "file_extension": ".py",
   "mimetype": "text/x-python",
   "name": "python",
   "nbconvert_exporter": "python",
   "pygments_lexer": "ipython3",
   "version": "3.8.5"
  },
  "orig_nbformat": 2,
  "kernelspec": {
   "name": "python385jvsc74a57bd098b0a9b7b4eaaa670588a142fd0a9b87eaafe866f1db4228be72b4211d12040f",
   "display_name": "Python 3.8.5 64-bit ('base': conda)"
  }
 },
 "nbformat": 4,
 "nbformat_minor": 2,
 "cells": [
  {
   "source": [
    "## CPSC 322 Project Proposal\n",
    "\n",
    "Names: Joseph Torii and Alex Giaccobi\n",
    "\n",
    "<u>Dataset Description</u>: \n",
    "Source: Kaggle\n",
    "Format: CSV\n",
    "Contents: All the TV shows and movies that are currently on Netflix.\n",
    "\n",
    "The attributes that are given in the dataset are: id, type, title, director, cast, country, date_added, release_year, rating, duration. ID is a unique id that each movie or tv show gets assigned. The type is whether production is a movie or tv show. The director, and cast are all attributes about the people who contributed to making the production. date_added is when the production was added to Netflix and release_year is when the production was released everywhere. Rating is how \"good\" the movie or tv show is and duration is the total length. We will be predicting attributes like country, rating, and type throughout this project.\n",
    "\n",
    "<u>Implementation and Technical Merit</u>:\n",
    "We do not expect to run into any pre-processing and/or classification errors because all of the attributes are nominal. The amount of missing values is inconsequential to the total amount of instances in our dataset (7 empty ratings in the 7000+ instance dataset).\n",
    "\n",
    "<u>Potential Impact of the Result</u>: \n",
    "The results could be usefult for Netflix to classify new movies and tv shows into their database or for the average person to figure out which movies or tv shows to watch. Netflix and the average user are the stakeholders of our results because of the interest in movie and tv show details."
   ],
   "cell_type": "markdown",
   "metadata": {}
  }
 ]
}